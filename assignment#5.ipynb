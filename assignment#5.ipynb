{
 "cells": [
  {
   "cell_type": "markdown",
   "metadata": {},
   "source": [
    "# question: 1"
   ]
  },
  {
   "cell_type": "markdown",
   "metadata": {},
   "source": [
    "Python is a multi-paradigm programming language. Meaning, \n",
    "it supports different programming approach. One of the popular approach to solve a programming problem is by creating objects. \n",
    "This is known as Object-Oriented Programming (OOP)."
   ]
  },
  {
   "cell_type": "markdown",
   "metadata": {},
   "source": [
    "# question: 2"
   ]
  },
  {
   "cell_type": "markdown",
   "metadata": {},
   "source": [
    "Object-oriented programming has some advantages over other design patterns. \n",
    "Development is faster and cheaper, with better software maintainability. \n",
    "This, in turn, leads to higher-quality software, which is also extensible with new methods and attributes. \n",
    "The learning curve is, however, steeper. The concept may be too complex for beginners. Computationally, \n",
    "OOP software is slower, and uses more memory since more lines of code have to be written."
   ]
  },
  {
   "cell_type": "markdown",
   "metadata": {},
   "source": [
    "# question: 3"
   ]
  },
  {
   "cell_type": "markdown",
   "metadata": {},
   "source": [
    "A method in python is somewhat similar to a function, except it is associated with object/classes. \n",
    "Methods in python are very similar to functions except for two major differences. \n",
    "The method is implicitly used for an object for which it is called. \n",
    "The method is accessible to data that is contained within the class."
   ]
  },
  {
   "cell_type": "markdown",
   "metadata": {},
   "source": [
    "# question: 5"
   ]
  },
  {
   "cell_type": "code",
   "execution_count": 5,
   "metadata": {},
   "outputs": [
    {
     "name": "stdout",
     "output_type": "stream",
     "text": [
      "<__main__.car object at 0x03729070>\n",
      "<__main__.car object at 0x03729090>\n",
      "<__main__.car object at 0x036B2D30>\n",
      "<__main__.car object at 0x036B2D50>\n",
      "<__main__.car object at 0x036B2650>\n"
     ]
    }
   ],
   "source": [
    "class car():\n",
    "    def __init__(self,company,seats,gear,mileage,air_conditioner):\n",
    "        self.company = company\n",
    "        self.seats = seats\n",
    "        self.gear = gear\n",
    "        self.mileage = mileage\n",
    "        self.air_conditioner = air_conditioner\n",
    "car1 = car(\"honda\",4,5,\"20km/ltr\",\"Yes\")\n",
    "car2 = car(\"audi\",4,5,\"30km/ltr\",\"Yes\")\n",
    "car3 = car(\"toyota\",4,5,\"20km/ltr\",\"Yes\")\n",
    "car4 = car(\"mitsubishi\",4,5,\"20km/ltr\",\"Yes\")\n",
    "car5 = car(\"nissan\",4,5,\"20km/ltr\",\"Yes\")\n",
    "print(car1)\n",
    "print(car2)\n",
    "print(car3)\n",
    "print(car4)\n",
    "print(car5)"
   ]
  }
 ],
 "metadata": {
  "kernelspec": {
   "display_name": "Python 3",
   "language": "python",
   "name": "python3"
  },
  "language_info": {
   "codemirror_mode": {
    "name": "ipython",
    "version": 3
   },
   "file_extension": ".py",
   "mimetype": "text/x-python",
   "name": "python",
   "nbconvert_exporter": "python",
   "pygments_lexer": "ipython3",
   "version": "3.7.4"
  }
 },
 "nbformat": 4,
 "nbformat_minor": 2
}
