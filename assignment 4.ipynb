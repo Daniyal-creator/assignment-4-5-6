{
 "cells": [
  {
   "cell_type": "markdown",
   "metadata": {},
   "source": [
    "# question: 1"
   ]
  },
  {
   "cell_type": "code",
   "execution_count": 24,
   "metadata": {},
   "outputs": [
    {
     "name": "stdout",
     "output_type": "stream",
     "text": [
      "{'first_name': 'ibrahim', 'last_name': 'aslam', 'age': '25', 'city': 'Karachi'}\n",
      "{'first_name': 'ibrahim', 'last_name': 'aslam', 'age': '25', 'city': 'Karachi', 'qualification': 'BSSE'}\n",
      "{'first_name': 'ibrahim', 'last_name': 'aslam', 'age': '25', 'city': 'Karachi'}\n"
     ]
    }
   ],
   "source": [
    "info = {\"first_name\":\"ibrahim\",\"last_name\":\"aslam\",\"age\":\"25\",\"city\":\"Karachi\",}\n",
    "print(info)\n",
    "info2 = {\"qualification\":\"BSSE\"}\n",
    "info.update(info2)\n",
    "print(info)\n",
    "info.pop(\"qualification\")\n",
    "print(info)"
   ]
  },
  {
   "cell_type": "markdown",
   "metadata": {},
   "source": [
    "# question: 2"
   ]
  },
  {
   "cell_type": "code",
   "execution_count": 54,
   "metadata": {},
   "outputs": [
    {
     "name": "stdout",
     "output_type": "stream",
     "text": [
      "Karachi = country : pakistan\n",
      "Population : 2.5Crore\n",
      "fact : largest city of Pakistan\n",
      "\n",
      "Lahore = country : pakistan\n",
      "Population : more than 1Crore\n",
      "fact : 32thlargest city of World\n",
      "\n",
      "Islamabad = country : pakistan\n",
      "Population : more than 1 million\n",
      "fact : Capital city of Pakistan\n"
     ]
    }
   ],
   "source": [
    "cities  = {\"karachi\",\"lahore\",\"Islamabad\"}\n",
    "information = {\"Karachi\":\"country : pakistan\\nPopulation : 2.5Crore\\nfact : largest city of Pakistan\\n\\n\"\n",
    "              ,\"Lahore\":\"country : pakistan\\nPopulation : more than 1Crore\\nfact : 32thlargest city of World\\n\\n\"\n",
    "            ,\"Islamabad\":\"country : pakistan\\nPopulation : more than 1 million\\nfact : Capital city of Pakistan\"}\n",
    "print( \"Karachi = {Karachi}Lahore = {Lahore}Islamabad = {Islamabad}\".format(**information))"
   ]
  },
  {
   "cell_type": "markdown",
   "metadata": {},
   "source": [
    "# question: 3"
   ]
  },
  {
   "cell_type": "code",
   "execution_count": 11,
   "metadata": {},
   "outputs": [
    {
     "name": "stdout",
     "output_type": "stream",
     "text": [
      "Enter your age:44\n",
      "The ticket is $15\n"
     ]
    }
   ],
   "source": [
    "def ticket_price():\n",
    "    age = eval(input(\"Enter your age:\"))\n",
    "    if age <= 3:\n",
    "        print(\"Your ticket is free\")\n",
    "    elif age <= 12:\n",
    "        print(\"The ticket is $10\")\n",
    "    elif age >= 12:\n",
    "        print(\"The ticket is $15\")\n",
    "ticket_price()"
   ]
  },
  {
   "cell_type": "markdown",
   "metadata": {},
   "source": [
    "# question: 4"
   ]
  },
  {
   "cell_type": "code",
   "execution_count": 3,
   "metadata": {},
   "outputs": [
    {
     "name": "stdout",
     "output_type": "stream",
     "text": [
      "One of my favorite book whose title is Harry Potter\n"
     ]
    }
   ],
   "source": [
    "def favorite_book(n):\n",
    "    print(\"One of my favorite book whose title is\",n)\n",
    "favorite_book(\"Harry Potter\")"
   ]
  },
  {
   "cell_type": "markdown",
   "metadata": {},
   "source": [
    "# question: 5"
   ]
  },
  {
   "cell_type": "code",
   "execution_count": 56,
   "metadata": {},
   "outputs": [
    {
     "name": "stdout",
     "output_type": "stream",
     "text": [
      "enter:25\n",
      "try again\n",
      "enter:10\n",
      "try again\n",
      "enter:15\n",
      "try again\n"
     ]
    }
   ],
   "source": [
    "def guess():\n",
    "    import random\n",
    "    secret = random.randrange(1,30)\n",
    "    for i in range(1,4):\n",
    "        n = eval(input(\"enter:\"))\n",
    "        if n == secret:\n",
    "            print(\"Your guess is correct i.e:\",n)\n",
    "            break\n",
    "        else:\n",
    "            print(\"try again\")\n",
    "guess()"
   ]
  },
  {
   "cell_type": "code",
   "execution_count": null,
   "metadata": {},
   "outputs": [],
   "source": []
  }
 ],
 "metadata": {
  "kernelspec": {
   "display_name": "Python 3",
   "language": "python",
   "name": "python3"
  },
  "language_info": {
   "codemirror_mode": {
    "name": "ipython",
    "version": 3
   },
   "file_extension": ".py",
   "mimetype": "text/x-python",
   "name": "python",
   "nbconvert_exporter": "python",
   "pygments_lexer": "ipython3",
   "version": "3.7.4"
  }
 },
 "nbformat": 4,
 "nbformat_minor": 2
}
